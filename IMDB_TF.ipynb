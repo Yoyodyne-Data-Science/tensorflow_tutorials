{
 "cells": [
  {
   "cell_type": "markdown",
   "metadata": {},
   "source": [
    "### Tensorflow 2.0 tutoral based on the IMDB film reviews\n",
    "\n",
    "Taken from: https://www.tensorflow.org/beta/tutorials/keras/basic_text_classification_with_tfhub\n",
    "\n",
    "Uses a pretrained text embedding from tfhub"
   ]
  },
  {
   "cell_type": "code",
   "execution_count": 57,
   "metadata": {},
   "outputs": [],
   "source": [
    "#!pip install tensorflow_hub"
   ]
  },
  {
   "cell_type": "code",
   "execution_count": 58,
   "metadata": {},
   "outputs": [],
   "source": [
    "#!pip install tensorflow_datasets"
   ]
  },
  {
   "cell_type": "code",
   "execution_count": 59,
   "metadata": {},
   "outputs": [],
   "source": [
    "#!pip install tfds-nightly"
   ]
  },
  {
   "cell_type": "code",
   "execution_count": 60,
   "metadata": {},
   "outputs": [],
   "source": [
    "#!pip install tf-nightly"
   ]
  },
  {
   "cell_type": "code",
   "execution_count": 61,
   "metadata": {},
   "outputs": [],
   "source": [
    "# Didn't need : !pip install protobuf for this pc"
   ]
  },
  {
   "cell_type": "code",
   "execution_count": 11,
   "metadata": {},
   "outputs": [
    {
     "name": "stderr",
     "output_type": "stream",
     "text": [
      "Python 3.6.8 :: Anaconda, Inc.\n"
     ]
    }
   ],
   "source": [
    "# !python --version"
   ]
  },
  {
   "cell_type": "code",
   "execution_count": 1,
   "metadata": {},
   "outputs": [
    {
     "name": "stderr",
     "output_type": "stream",
     "text": [
      "WARNING: Logging before flag parsing goes to stderr.\n",
      "W0712 18:22:07.295638  2900 module_wrapper.py:126] From c:\\users\\alunb\\appdata\\local\\programs\\python\\python36\\lib\\site-packages\\tensorflow_core\\python\\util\\module_wrapper.py:153: The name tf.enable_eager_execution is deprecated. Please use tf.compat.v1.enable_eager_execution instead.\n",
      "\n"
     ]
    },
    {
     "name": "stdout",
     "output_type": "stream",
     "text": [
      "Version:  1.15.0-dev20190712\n",
      "Eager mode:  True\n",
      "Hub version:  0.5.0\n",
      "GPU is NOT AVAILABLE\n"
     ]
    }
   ],
   "source": [
    "from __future__ import absolute_import, division, print_function, unicode_literals\n",
    "\n",
    "import numpy as np\n",
    "\n",
    "import tensorflow as tf\n",
    "\n",
    "import tensorflow_hub as hub\n",
    "import tensorflow_datasets as tfds\n",
    "\n",
    "tf.enable_eager_execution()\n",
    "\n",
    "print(\"Version: \", tf.__version__)\n",
    "print(\"Eager mode: \", tf.executing_eagerly())\n",
    "print(\"Hub version: \", hub.__version__)\n",
    "print(\"GPU is\", \"available\" if tf.test.is_gpu_available() else \"NOT AVAILABLE\")"
   ]
  },
  {
   "cell_type": "markdown",
   "metadata": {},
   "source": [
    "Download the IMDB dataset"
   ]
  },
  {
   "cell_type": "code",
   "execution_count": 2,
   "metadata": {},
   "outputs": [
    {
     "name": "stderr",
     "output_type": "stream",
     "text": [
      "W0712 18:22:17.462471  2900 module_wrapper.py:126] From c:\\users\\alunb\\appdata\\local\\programs\\python\\python36\\lib\\site-packages\\tensorflow_core\\python\\util\\module_wrapper.py:153: The name tf.estimator.inputs is deprecated. Please use tf.compat.v1.estimator.inputs instead.\n",
      "\n",
      "W0712 18:22:17.856939  2900 ag_logging.py:146] Entity <bound method TopLevelFeature.decode_example of FeaturesDict({\n",
      "    'label': ClassLabel(shape=(), dtype=tf.int64, num_classes=2),\n",
      "    'text': Text(shape=(), dtype=tf.string, encoder=None),\n",
      "})> could not be transformed and will be executed as-is. Please report this to the AutoGraph team. When filing the bug, set the verbosity to 10 (on Linux, `export AUTOGRAPH_VERBOSITY=10`) and attach the full output. Cause: Mangled names are not yet supported by AutoGraph\n"
     ]
    },
    {
     "name": "stdout",
     "output_type": "stream",
     "text": [
      "WARNING: Entity <bound method TopLevelFeature.decode_example of FeaturesDict({\n",
      "    'label': ClassLabel(shape=(), dtype=tf.int64, num_classes=2),\n",
      "    'text': Text(shape=(), dtype=tf.string, encoder=None),\n",
      "})> could not be transformed and will be executed as-is. Please report this to the AutoGraph team. When filing the bug, set the verbosity to 10 (on Linux, `export AUTOGRAPH_VERBOSITY=10`) and attach the full output. Cause: Mangled names are not yet supported by AutoGraph\n"
     ]
    },
    {
     "name": "stderr",
     "output_type": "stream",
     "text": [
      "W0712 18:22:17.991343  2900 ag_logging.py:146] Entity <bound method TopLevelFeature.decode_example of FeaturesDict({\n",
      "    'label': ClassLabel(shape=(), dtype=tf.int64, num_classes=2),\n",
      "    'text': Text(shape=(), dtype=tf.string, encoder=None),\n",
      "})> could not be transformed and will be executed as-is. Please report this to the AutoGraph team. When filing the bug, set the verbosity to 10 (on Linux, `export AUTOGRAPH_VERBOSITY=10`) and attach the full output. Cause: Mangled names are not yet supported by AutoGraph\n"
     ]
    },
    {
     "name": "stdout",
     "output_type": "stream",
     "text": [
      "WARNING: Entity <bound method TopLevelFeature.decode_example of FeaturesDict({\n",
      "    'label': ClassLabel(shape=(), dtype=tf.int64, num_classes=2),\n",
      "    'text': Text(shape=(), dtype=tf.string, encoder=None),\n",
      "})> could not be transformed and will be executed as-is. Please report this to the AutoGraph team. When filing the bug, set the verbosity to 10 (on Linux, `export AUTOGRAPH_VERBOSITY=10`) and attach the full output. Cause: Mangled names are not yet supported by AutoGraph\n"
     ]
    },
    {
     "name": "stderr",
     "output_type": "stream",
     "text": [
      "W0712 18:22:18.067258  2900 ag_logging.py:146] Entity <bound method TopLevelFeature.decode_example of FeaturesDict({\n",
      "    'label': ClassLabel(shape=(), dtype=tf.int64, num_classes=2),\n",
      "    'text': Text(shape=(), dtype=tf.string, encoder=None),\n",
      "})> could not be transformed and will be executed as-is. Please report this to the AutoGraph team. When filing the bug, set the verbosity to 10 (on Linux, `export AUTOGRAPH_VERBOSITY=10`) and attach the full output. Cause: Mangled names are not yet supported by AutoGraph\n"
     ]
    },
    {
     "name": "stdout",
     "output_type": "stream",
     "text": [
      "WARNING: Entity <bound method TopLevelFeature.decode_example of FeaturesDict({\n",
      "    'label': ClassLabel(shape=(), dtype=tf.int64, num_classes=2),\n",
      "    'text': Text(shape=(), dtype=tf.string, encoder=None),\n",
      "})> could not be transformed and will be executed as-is. Please report this to the AutoGraph team. When filing the bug, set the verbosity to 10 (on Linux, `export AUTOGRAPH_VERBOSITY=10`) and attach the full output. Cause: Mangled names are not yet supported by AutoGraph\n"
     ]
    }
   ],
   "source": [
    "# Split the training set into 60% and 40%, so we'll end up with 15,000 examples\n",
    "# for training, 10,000 examples for validation and 25,000 examples for testing.\n",
    "train_validation_split = tfds.Split.TRAIN.subsplit([6, 4])\n",
    "\n",
    "(train_data, validation_data), test_data = tfds.load(\n",
    "    name=\"imdb_reviews\", \n",
    "    split=(train_validation_split, tfds.Split.TEST),\n",
    "    as_supervised=True)"
   ]
  },
  {
   "cell_type": "code",
   "execution_count": 3,
   "metadata": {},
   "outputs": [
    {
     "data": {
      "text/plain": [
       "<DatasetV1Adapter shapes: ((), ()), types: (tf.string, tf.int64)>"
      ]
     },
     "execution_count": 3,
     "metadata": {},
     "output_type": "execute_result"
    }
   ],
   "source": [
    "train_data"
   ]
  },
  {
   "cell_type": "code",
   "execution_count": 4,
   "metadata": {},
   "outputs": [],
   "source": [
    "train_examples_batch, train_labels_batch = next(iter(train_data.batch(10)))"
   ]
  },
  {
   "cell_type": "code",
   "execution_count": 5,
   "metadata": {},
   "outputs": [
    {
     "data": {
      "text/plain": [
       "<tf.Tensor: id=224, shape=(10,), dtype=string, numpy=\n",
       "array([b\"As a lifelong fan of Dickens, I have invariably been disappointed by adaptations of his novels.<br /><br />Although his works presented an extremely accurate re-telling of human life at every level in Victorian Britain, throughout them all was a pervasive thread of humour that could be both playful or sarcastic as the narrative dictated. In a way, he was a literary caricaturist and cartoonist. He could be serious and hilarious in the same sentence. He pricked pride, lampooned arrogance, celebrated modesty, and empathised with loneliness and poverty. It may be a clich\\xc3\\xa9, but he was a people's writer.<br /><br />And it is the comedy that is so often missing from his interpretations. At the time of writing, Oliver Twist is being dramatised in serial form on BBC television. All of the misery and cruelty is their, but non of the humour, irony, and savage lampoonery. The result is just a dark, dismal experience: the story penned by a journalist rather than a novelist. It's not really Dickens at all.<br /><br />'Oliver!', on the other hand, is much closer to the mark. The mockery of officialdom is perfectly interpreted, from the blustering beadle to the drunken magistrate. The classic stand-off between the beadle and Mr Brownlow, in which the law is described as 'a ass, a idiot' couldn't have been better done. Harry Secombe is an ideal choice.<br /><br />But the blinding cruelty is also there, the callous indifference of the state, the cold, hunger, poverty and loneliness are all presented just as surely as The Master would have wished.<br /><br />And then there is crime. Ron Moody is a treasure as the sleazy Jewish fence, whilst Oliver Reid has Bill Sykes to perfection.<br /><br />Perhaps not surprisingly, Lionel Bart - himself a Jew from London's east-end - takes a liberty with Fagin by re-interpreting him as a much more benign fellow than was Dicken's original. In the novel, he was utterly ruthless, sending some of his own boys to the gallows in order to protect himself (though he was also caught and hanged). Whereas in the movie, he is presented as something of a wayward father-figure, a sort of charitable thief rather than a corrupter of children, the latter being a long-standing anti-semitic sentiment. Otherwise, very few liberties are taken with Dickens's original. All of the most memorable elements are included. Just enough menace and violence is retained to ensure narrative fidelity whilst at the same time allowing for children' sensibilities. Nancy is still beaten to death, Bullseye narrowly escapes drowning, and Bill Sykes gets a faithfully graphic come-uppance.<br /><br />Every song is excellent, though they do incline towards schmaltz. Mark Lester mimes his wonderfully. Both his and my favourite scene is the one in which the world comes alive to 'who will buy'. It's schmaltzy, but it's Dickens through and through.<br /><br />I could go on. I could commend the wonderful set-pieces, the contrast of the rich and poor. There is top-quality acting from more British regulars than you could shake a stick at.<br /><br />I ought to give it 10 points, but I'm feeling more like Scrooge today. Soak it up with your Christmas dinner. No original has been better realised.\",\n",
       "       b\"Oh yeah! Jenna Jameson did it again! Yeah Baby! This movie rocks. It was one of the 1st movies i saw of her. And i have to say i feel in love with her, she was great in this move.<br /><br />Her performance was outstanding and what i liked the most was the scenery and the wardrobe it was amazing you can tell that they put a lot into the movie the girls cloth were amazing.<br /><br />I hope this comment helps and u can buy the movie, the storyline is awesome is very unique and i'm sure u are going to like it. Jenna amazed us once more and no wonder the movie won so many awards. Her make-up and wardrobe is very very sexy and the girls on girls scene is amazing. specially the one where she looks like an angel. It's a must see and i hope u share my interests\",\n",
       "       b\"I saw this film on True Movies (which automatically made me sceptical) but actually - it was good. Why? Not because of the amazing plot twists or breathtaking dialogue (of which there is little) but because actually, despite what people say I thought the film was accurate in it's depiction of teenagers dealing with pregnancy.<br /><br />It's NOT Dawson's Creek, they're not graceful, cool witty characters who breeze through sexuality with effortless knowledge. They're kids and they act like kids would. <br /><br />They're blunt, awkward and annoyingly confused about everything. Yes, this could be by accident and they could just be bad actors but I don't think so. Dermot Mulroney gives (when not trying to be cool) a very believable performance and I loved him for it. Patricia Arquette IS whiny and annoying, but she was pregnant and a teenagers? The combination of the two isn't exactly lavender on your pillow. The plot was VERY predictable and but so what? I believed them, his stress and inability to cope - her brave, yet slightly misguided attempts to bring them closer together. I think the characters, acted by anyone else, WOULD indeed have been annoying and unbelievable but they weren't. It reflects the surreality of the situation they're in, that he's sitting in class and she walks on campus with the baby. I felt angry at her for that, I felt angry at him for being such a child and for blaming her. I felt it all.<br /><br />In the end, I loved it and would recommend it.<br /><br />Watch out for the scene where Dermot Mulroney runs from the disastrous counselling session - career performance.\",\n",
       "       b'This was a wonderfully clever and entertaining movie that I shall never tire of watching many, many times. The casting was magnificent in matching up the young with the older characters. There are those of us out here who really do appreciate good actors and an intelligent story format. As for Judi Dench, she is beautiful and a gift to any kind of production in which she stars. I always make a point to see Judi Dench in all her performances. She is a superb actress and a pleasure to watch as each transformation of her character comes to life. I can only be grateful when I see such an outstanding picture for most of the motion pictures made more recently lack good characters, good scripts and good acting. The movie public needs heroes, not deviant manikins, who lack ingenuity and talent. How wonderful to see old favorites like Leslie Caron, Olympia Dukakis and Cleo Laine. I would like to see this movie win the awards it deserves. Thank you again for a tremendous night of entertainment. I congratulate the writer, director, producer, and all those who did such a fine job.',\n",
       "       b'I have no idea what the other reviewer is talking about- this was a wonderful movie, and created a sense of the era that feels like time travel. The characters are truly young, Mary is a strong match for Byron, Claire is juvenile and a tad annoying, Polidori is a convincing beaten-down sycophant... all are beautiful, curious, and decadent... not the frightening wrecks they are in Gothic.<br /><br />Gothic works as an independent piece of shock film, and I loved it for different reasons, but this works like a Merchant and Ivory film, and was from my readings the best capture of what the summer must have felt like. Romantic, yes, but completely rekindles my interest in the lives of Shelley and Byron every time I think about the film. One of my all-time favorites.',\n",
       "       b\"This was soul-provoking! I am an Iranian, and living in th 21st century, I didn't know that such big tribes have been living in such conditions at the time of my grandfather!<br /><br />You see that today, or even in 1925, on one side of the world a lady or a baby could have everything served for him or her clean and on-demand, but here 80 years ago, people ventured their life to go to somewhere with more grass. It's really interesting that these Persians bear those difficulties to find pasture for their sheep, but they lose many the sheep on their way.<br /><br />I praise the Americans who accompanied this tribe, they were as tough as Bakhtiari people.\",\n",
       "       b'Just because someone is under the age of 10 does not mean they are stupid. If your child likes this film you\\'d better have him/her tested. I am continually amazed at how so many people can be involved in something that turns out so bad. This \"film\" is a showcase for digital wizardry AND NOTHING ELSE. The writing is horrid. I can\\'t remember when I\\'ve heard such bad dialogue. The songs are beyond wretched. The acting is sub-par but then the actors were not given much. Who decided to employ Joey Fatone? He cannot sing and he is ugly as sin.<br /><br />The worst thing is the obviousness of it all. It is as if the writers went out of their way to make it all as stupid as possible. Great children\\'s movies are wicked, smart and full of wit - films like Shrek and Toy Story in recent years, Willie Wonka and The Witches to mention two of the past. But in the continual dumbing-down of American more are flocking to dreck like Finding Nemo (yes, that\\'s right), the recent Charlie & The Chocolate Factory and eye-crossing trash like Red Riding Hood.',\n",
       "       b\"I absolutely LOVED this movie when I was a kid. I cried every time I watched it. It wasn't weird to me. I totally identified with the characters. I would love to see it again (and hope I wont be disappointed!). Pufnstuf rocks!!!! I was really drawn in to the fantasy world. And to me the movie was loooong. I wonder if I ever saw the series and have confused them? The acting I thought was strong. I loved Jack Wilde. He was so dreamy to an 10 year old (when I first saw the movie, not in 1970. I can still remember the characters vividly. The flute was totally believable and I can still 'feel' the evil woods. Witchy poo was scary - I wouldn't want to cross her path.\",\n",
       "       b'A very close and sharp discription of the bubbling and dynamic emotional world of specialy one 18year old guy, that makes his first experiences in his gay love to an other boy, during an vacation with a part of his family.<br /><br />I liked this film because of his extremly clear and surrogated storytelling , with all this \"Sound-close-ups\" and quiet moments wich had been full of intensive moods.<br /><br />',\n",
       "       b\"This is the most depressing film I have ever seen. I first saw it as a child and even thinking about it now really upsets me. I know it was set in a time when life was hard and I know these people were poor and the crops were vital. Yes, I get all that. What I find hard to take is I can't remember one single light moment in the entire film. Maybe it was true to life, I don't know. I'm quite sure the acting was top notch and the direction and quality of filming etc etc was wonderful and I know that every film can't have a happy ending but as a family film it is dire in my opinion.<br /><br />I wouldn't recommend it to anyone who wants to be entertained by a film. I can't stress enough how this film affected me as a child. I was talking about it recently and all the sad memories came flooding back. I think it would have all but the heartless reaching for the Prozac.\"],\n",
       "      dtype=object)>"
      ]
     },
     "execution_count": 5,
     "metadata": {},
     "output_type": "execute_result"
    }
   ],
   "source": [
    "train_examples_batch"
   ]
  },
  {
   "cell_type": "code",
   "execution_count": 6,
   "metadata": {},
   "outputs": [
    {
     "data": {
      "text/plain": [
       "<tf.Tensor: id=225, shape=(10,), dtype=int64, numpy=array([1, 1, 1, 1, 1, 1, 0, 1, 1, 0], dtype=int64)>"
      ]
     },
     "execution_count": 6,
     "metadata": {},
     "output_type": "execute_result"
    }
   ],
   "source": [
    "train_labels_batch"
   ]
  },
  {
   "cell_type": "markdown",
   "metadata": {},
   "source": [
    "Choose a text embedding from a previously trained model, here use a pre-trained text embedding model from TensorFlow Hub called google/tf2-preview/gnews-swivel-20dim/1.\n",
    "\n",
    "There are three other pre-trained models to test for the sake of this tutorial:\n",
    "\n",
    "- google/tf2-preview/gnews-swivel-20dim-with-oov/1 - same as google/tf2-preview/gnews-swivel-20dim/1, but with 2.5% vocabulary converted to OOV buckets. This can help if vocabulary of the task and vocabulary of the model don't fully overlap.\n",
    "- google/tf2-preview/nnlm-en-dim50/1 - A much larger model with ~1M vocabulary size and 50 dimensions.\n",
    "- google/tf2-preview/nnlm-en-dim128/1 - Even larger model with ~1M vocabulary size and 128 dimensions.\n",
    "\n",
    "Let's first create a Keras layer that uses a TensorFlow Hub model to embed the sentences, and try it out on a couple of input examples. Note that no matter the length of the input text, the output shape of the embeddings is: "
   ]
  },
  {
   "cell_type": "code",
   "execution_count": 7,
   "metadata": {},
   "outputs": [
    {
     "data": {
      "text/plain": [
       "<tf.Tensor: id=404, shape=(3, 20), dtype=float32, numpy=\n",
       "array([[ 3.9819887 , -4.4838037 ,  5.177359  , -2.3643482 , -3.2938678 ,\n",
       "        -3.5364532 , -2.4786978 ,  2.5525482 ,  6.688532  , -2.3076782 ,\n",
       "        -1.9807833 ,  1.1315885 , -3.0339816 , -0.7604128 , -5.743445  ,\n",
       "         3.4242578 ,  4.790099  , -4.03061   , -5.992149  , -1.7297493 ],\n",
       "       [ 3.4232912 , -4.230874  ,  4.1488533 , -0.29553518, -6.802391  ,\n",
       "        -2.5163853 , -4.4002395 ,  1.905792  ,  4.7512794 , -0.40538004,\n",
       "        -4.3401685 ,  1.0361497 ,  0.9744097 ,  0.71507156, -6.2657013 ,\n",
       "         0.16533905,  4.560262  , -1.3106939 , -3.1121316 , -2.1338716 ],\n",
       "       [ 3.8508697 , -5.003031  ,  4.8700504 , -0.04324996, -5.893603  ,\n",
       "        -5.2983093 , -4.004676  ,  4.1236343 ,  6.267754  ,  0.11632943,\n",
       "        -3.5934832 ,  0.8023905 ,  0.56146765,  0.9192484 , -7.3066816 ,\n",
       "         2.8202746 ,  6.2000837 , -3.5709393 , -4.564525  , -2.305622  ]],\n",
       "      dtype=float32)>"
      ]
     },
     "execution_count": 7,
     "metadata": {},
     "output_type": "execute_result"
    }
   ],
   "source": [
    "embedding = \"https://tfhub.dev/google/tf2-preview/gnews-swivel-20dim/1\"\n",
    "hub_layer = hub.KerasLayer(embedding, input_shape=[], \n",
    "                           dtype=tf.string, trainable=True)\n",
    "hub_layer(train_examples_batch[:3])"
   ]
  },
  {
   "cell_type": "markdown",
   "metadata": {},
   "source": [
    "Build the model\n",
    "\n",
    "- Layer 1: TF hub layer with pre-trained, 20D word embedding\n",
    "- Layer 2: 16 node ReLU layer\n",
    "- Layer 3: 1 node sigmoid (binary classificaiton)\n",
    "(Remember that the sigmoid function = $1/(1+e^{-x})$)"
   ]
  },
  {
   "cell_type": "code",
   "execution_count": 8,
   "metadata": {},
   "outputs": [
    {
     "name": "stdout",
     "output_type": "stream",
     "text": [
      "Model: \"sequential\"\n",
      "_________________________________________________________________\n",
      "Layer (type)                 Output Shape              Param #   \n",
      "=================================================================\n",
      "keras_layer (KerasLayer)     (None, 20)                400020    \n",
      "_________________________________________________________________\n",
      "dense (Dense)                (None, 16)                336       \n",
      "_________________________________________________________________\n",
      "dense_1 (Dense)              (None, 1)                 17        \n",
      "=================================================================\n",
      "Total params: 400,373\n",
      "Trainable params: 400,373\n",
      "Non-trainable params: 0\n",
      "_________________________________________________________________\n"
     ]
    }
   ],
   "source": [
    "model = tf.keras.Sequential()\n",
    "model.add(hub_layer)\n",
    "model.add(tf.keras.layers.Dense(16, activation='relu'))\n",
    "model.add(tf.keras.layers.Dense(1, activation='sigmoid'))\n",
    "\n",
    "model.summary()"
   ]
  },
  {
   "cell_type": "markdown",
   "metadata": {},
   "source": [
    "Configure optimizer and loss funciton"
   ]
  },
  {
   "cell_type": "code",
   "execution_count": 9,
   "metadata": {},
   "outputs": [],
   "source": [
    "model.compile(optimizer='adam',\n",
    "              loss='binary_crossentropy',\n",
    "              metrics=['accuracy'])"
   ]
  },
  {
   "cell_type": "markdown",
   "metadata": {},
   "source": [
    "Train the model on mini batches of 512"
   ]
  },
  {
   "cell_type": "code",
   "execution_count": 10,
   "metadata": {},
   "outputs": [
    {
     "name": "stdout",
     "output_type": "stream",
     "text": [
      "Epoch 1/20\n"
     ]
    },
    {
     "name": "stderr",
     "output_type": "stream",
     "text": [
      "W0712 18:33:58.400442  2900 deprecation.py:323] From c:\\users\\alunb\\appdata\\local\\programs\\python\\python36\\lib\\site-packages\\tensorflow_core\\python\\ops\\math_grad.py:1251: where (from tensorflow.python.ops.array_ops) is deprecated and will be removed in a future version.\n",
      "Instructions for updating:\n",
      "Use tf.where in 2.0, which has the same broadcast rule as np.where\n",
      "W0712 18:33:58.636646  2900 deprecation.py:323] From c:\\users\\alunb\\appdata\\local\\programs\\python\\python36\\lib\\site-packages\\tensorflow_core\\python\\keras\\optimizer_v2\\optimizer_v2.py:454: BaseResourceVariable.constraint (from tensorflow.python.ops.resource_variable_ops) is deprecated and will be removed in a future version.\n",
      "Instructions for updating:\n",
      "Apply a constraint manually following the optimizer update step.\n"
     ]
    },
    {
     "name": "stdout",
     "output_type": "stream",
     "text": [
      "30/30 [==============================].7201 - acc: 0.632 - 3s 2s/step - loss: 0.7334 - acc: 0.608 - 3s 1s/step - loss: 0.7133 - acc: 0.623 - 3s 852ms/step - loss: 0.7143 - acc: 0.61 - 4s 722ms/step - loss: 0.7062 - acc: 0.62 - 4s 636ms/step - loss: 0.7038 - acc: 0.62 - 4s 573ms/step - loss: 0.6989 - acc: 0.62 - 4s 528ms/step - loss: 0.6948 - acc: 0.62 - 4s 493ms/step - loss: 0.6929 - acc: 0.62 - 5s 461ms/step - loss: 0.6861 - acc: 0.63 - 5s 431ms/step - loss: 0.6824 - acc: 0.63 - 5s 407ms/step - loss: 0.6749 - acc: 0.63 - 5s 387ms/step - loss: 0.6697 - acc: 0.64 - 5s 369ms/step - loss: 0.6671 - acc: 0.64 - 5s 354ms/step - loss: 0.6661 - acc: 0.64 - 5s 341ms/step - loss: 0.6623 - acc: 0.64 - 6s 328ms/step - loss: 0.6588 - acc: 0.64 - 6s 318ms/step - loss: 0.6564 - acc: 0.64 - 6s 308ms/step - loss: 0.6520 - acc: 0.64 - 6s 300ms/step - loss: 0.6502 - acc: 0.65 - 6s 292ms/step - loss: 0.6482 - acc: 0.65 - 6s 286ms/step - loss: 0.6453 - acc: 0.65 - 6s 279ms/step - loss: 0.6452 - acc: 0.65 - 7s 274ms/step - loss: 0.6439 - acc: 0.65 - 7s 268ms/step - loss: 0.6427 - acc: 0.65 - 7s 262ms/step - loss: 0.6416 - acc: 0.65 - 7s 258ms/step - loss: 0.6401 - acc: 0.65 - 7s 254ms/step - loss: 0.6383 - acc: 0.65 - 7s 249ms/step - loss: 0.6366 - acc: 0.65 - 8s 250ms/step - loss: 0.6351 - acc: 0.65 - 12s 385ms/step - loss: 0.6351 - acc: 0.6567 - val_loss: 0.0000e+00 - val_acc: 0.0000e+00\n",
      "Epoch 2/20\n",
      "30/30 [==============================] - ETA: 49s - loss: 0.5744 - acc: 0.69 - ETA: 27s - loss: 0.5697 - acc: 0.69 - ETA: 19s - loss: 0.5630 - acc: 0.71 - ETA: 15s - loss: 0.5690 - acc: 0.70 - ETA: 12s - loss: 0.5675 - acc: 0.70 - ETA: 11s - loss: 0.5671 - acc: 0.70 - ETA: 9s - loss: 0.5675 - acc: 0.7073 - ETA: 8s - loss: 0.5663 - acc: 0.706 - ETA: 7s - loss: 0.5672 - acc: 0.706 - ETA: 7s - loss: 0.5642 - acc: 0.707 - ETA: 6s - loss: 0.5637 - acc: 0.708 - ETA: 5s - loss: 0.5607 - acc: 0.713 - ETA: 5s - loss: 0.5589 - acc: 0.715 - ETA: 4s - loss: 0.5586 - acc: 0.714 - ETA: 4s - loss: 0.5592 - acc: 0.715 - ETA: 3s - loss: 0.5574 - acc: 0.716 - ETA: 3s - loss: 0.5565 - acc: 0.717 - ETA: 3s - loss: 0.5554 - acc: 0.718 - ETA: 2s - loss: 0.5535 - acc: 0.720 - ETA: 2s - loss: 0.5536 - acc: 0.720 - ETA: 2s - loss: 0.5531 - acc: 0.720 - ETA: 1s - loss: 0.5523 - acc: 0.721 - ETA: 1s - loss: 0.5532 - acc: 0.719 - ETA: 1s - loss: 0.5529 - acc: 0.720 - ETA: 1s - loss: 0.5533 - acc: 0.719 - ETA: 0s - loss: 0.5533 - acc: 0.719 - ETA: 0s - loss: 0.5530 - acc: 0.719 - ETA: 0s - loss: 0.5525 - acc: 0.720 - ETA: 0s - loss: 0.5518 - acc: 0.721 - 10s 330ms/step - loss: 0.5511 - acc: 0.7212 - val_loss: 0.5320 - val_acc: 0.7426\n",
      "Epoch 3/20\n",
      "30/30 [==============================] - ETA: 45s - loss: 0.5331 - acc: 0.74 - ETA: 24s - loss: 0.5231 - acc: 0.74 - ETA: 18s - loss: 0.5167 - acc: 0.75 - ETA: 14s - loss: 0.5223 - acc: 0.74 - ETA: 12s - loss: 0.5215 - acc: 0.75 - ETA: 10s - loss: 0.5216 - acc: 0.74 - ETA: 9s - loss: 0.5234 - acc: 0.7492 - ETA: 8s - loss: 0.5227 - acc: 0.748 - ETA: 7s - loss: 0.5243 - acc: 0.745 - ETA: 6s - loss: 0.5218 - acc: 0.746 - ETA: 6s - loss: 0.5213 - acc: 0.748 - ETA: 5s - loss: 0.5188 - acc: 0.752 - ETA: 5s - loss: 0.5172 - acc: 0.751 - ETA: 4s - loss: 0.5172 - acc: 0.751 - ETA: 4s - loss: 0.5176 - acc: 0.751 - ETA: 3s - loss: 0.5156 - acc: 0.751 - ETA: 3s - loss: 0.5148 - acc: 0.753 - ETA: 3s - loss: 0.5135 - acc: 0.754 - ETA: 2s - loss: 0.5118 - acc: 0.756 - ETA: 2s - loss: 0.5122 - acc: 0.755 - ETA: 2s - loss: 0.5119 - acc: 0.756 - ETA: 1s - loss: 0.5112 - acc: 0.757 - ETA: 1s - loss: 0.5120 - acc: 0.756 - ETA: 1s - loss: 0.5115 - acc: 0.757 - ETA: 1s - loss: 0.5121 - acc: 0.756 - ETA: 0s - loss: 0.5123 - acc: 0.756 - ETA: 0s - loss: 0.5121 - acc: 0.756 - ETA: 0s - loss: 0.5118 - acc: 0.756 - ETA: 0s - loss: 0.5111 - acc: 0.757 - 10s 333ms/step - loss: 0.5102 - acc: 0.7577 - val_loss: 0.5000 - val_acc: 0.7684\n",
      "Epoch 4/20\n",
      "30/30 [==============================] - ETA: 48s - loss: 0.4991 - acc: 0.77 - ETA: 26s - loss: 0.4884 - acc: 0.77 - ETA: 19s - loss: 0.4812 - acc: 0.78 - ETA: 15s - loss: 0.4863 - acc: 0.77 - ETA: 12s - loss: 0.4857 - acc: 0.77 - ETA: 10s - loss: 0.4861 - acc: 0.77 - ETA: 9s - loss: 0.4880 - acc: 0.7715 - ETA: 8s - loss: 0.4871 - acc: 0.771 - ETA: 7s - loss: 0.4889 - acc: 0.769 - ETA: 7s - loss: 0.4864 - acc: 0.770 - ETA: 6s - loss: 0.4858 - acc: 0.772 - ETA: 5s - loss: 0.4833 - acc: 0.775 - ETA: 5s - loss: 0.4819 - acc: 0.776 - ETA: 4s - loss: 0.4818 - acc: 0.776 - ETA: 4s - loss: 0.4821 - acc: 0.776 - ETA: 3s - loss: 0.4799 - acc: 0.778 - ETA: 3s - loss: 0.4791 - acc: 0.779 - ETA: 3s - loss: 0.4776 - acc: 0.780 - ETA: 2s - loss: 0.4763 - acc: 0.782 - ETA: 2s - loss: 0.4768 - acc: 0.781 - ETA: 2s - loss: 0.4766 - acc: 0.781 - ETA: 1s - loss: 0.4758 - acc: 0.782 - ETA: 1s - loss: 0.4766 - acc: 0.781 - ETA: 1s - loss: 0.4759 - acc: 0.782 - ETA: 1s - loss: 0.4765 - acc: 0.782 - ETA: 0s - loss: 0.4767 - acc: 0.782 - ETA: 0s - loss: 0.4765 - acc: 0.782 - ETA: 0s - loss: 0.4763 - acc: 0.782 - ETA: 0s - loss: 0.4755 - acc: 0.783 - 10s 333ms/step - loss: 0.4743 - acc: 0.7837 - val_loss: 0.4708 - val_acc: 0.7889\n",
      "Epoch 5/20\n",
      "30/30 [==============================] - ETA: 50s - loss: 0.4666 - acc: 0.79 - ETA: 27s - loss: 0.4548 - acc: 0.79 - ETA: 19s - loss: 0.4474 - acc: 0.80 - ETA: 15s - loss: 0.4520 - acc: 0.79 - ETA: 12s - loss: 0.4517 - acc: 0.79 - ETA: 11s - loss: 0.4524 - acc: 0.79 - ETA: 9s - loss: 0.4542 - acc: 0.7916 - ETA: 8s - loss: 0.4532 - acc: 0.792 - ETA: 7s - loss: 0.4551 - acc: 0.790 - ETA: 7s - loss: 0.4526 - acc: 0.793 - ETA: 6s - loss: 0.4517 - acc: 0.794 - ETA: 5s - loss: 0.4493 - acc: 0.797 - ETA: 5s - loss: 0.4481 - acc: 0.798 - ETA: 4s - loss: 0.4479 - acc: 0.799 - ETA: 4s - loss: 0.4480 - acc: 0.800 - ETA: 3s - loss: 0.4458 - acc: 0.802 - ETA: 3s - loss: 0.4450 - acc: 0.802 - ETA: 3s - loss: 0.4435 - acc: 0.804 - ETA: 2s - loss: 0.4424 - acc: 0.805 - ETA: 2s - loss: 0.4430 - acc: 0.804 - ETA: 2s - loss: 0.4429 - acc: 0.805 - ETA: 1s - loss: 0.4421 - acc: 0.806 - ETA: 1s - loss: 0.4428 - acc: 0.805 - ETA: 1s - loss: 0.4420 - acc: 0.806 - ETA: 1s - loss: 0.4426 - acc: 0.806 - ETA: 0s - loss: 0.4428 - acc: 0.806 - ETA: 0s - loss: 0.4427 - acc: 0.806 - ETA: 0s - loss: 0.4426 - acc: 0.806 - ETA: 0s - loss: 0.4417 - acc: 0.806 - 10s 332ms/step - loss: 0.4401 - acc: 0.8071 - val_loss: 0.4435 - val_acc: 0.8043\n",
      "Epoch 6/20\n",
      "30/30 [==============================] - ETA: 49s - loss: 0.4362 - acc: 0.80 - ETA: 27s - loss: 0.4233 - acc: 0.81 - ETA: 19s - loss: 0.4154 - acc: 0.82 - ETA: 15s - loss: 0.4194 - acc: 0.81 - ETA: 12s - loss: 0.4193 - acc: 0.81 - ETA: 11s - loss: 0.4202 - acc: 0.81 - ETA: 9s - loss: 0.4221 - acc: 0.8111 - ETA: 8s - loss: 0.4209 - acc: 0.812 - ETA: 7s - loss: 0.4228 - acc: 0.812 - ETA: 7s - loss: 0.4201 - acc: 0.814 - ETA: 6s - loss: 0.4190 - acc: 0.815 - ETA: 5s - loss: 0.4166 - acc: 0.818 - ETA: 5s - loss: 0.4156 - acc: 0.819 - ETA: 4s - loss: 0.4153 - acc: 0.820 - ETA: 4s - loss: 0.4154 - acc: 0.821 - ETA: 3s - loss: 0.4132 - acc: 0.822 - ETA: 3s - loss: 0.4125 - acc: 0.822 - ETA: 3s - loss: 0.4108 - acc: 0.823 - ETA: 2s - loss: 0.4101 - acc: 0.824 - ETA: 2s - loss: 0.4107 - acc: 0.823 - ETA: 2s - loss: 0.4108 - acc: 0.824 - ETA: 1s - loss: 0.4100 - acc: 0.824 - ETA: 1s - loss: 0.4106 - acc: 0.824 - ETA: 1s - loss: 0.4098 - acc: 0.825 - ETA: 1s - loss: 0.4104 - acc: 0.824 - ETA: 0s - loss: 0.4105 - acc: 0.824 - ETA: 0s - loss: 0.4105 - acc: 0.824 - ETA: 0s - loss: 0.4105 - acc: 0.824 - ETA: 0s - loss: 0.4096 - acc: 0.825 - 10s 330ms/step - loss: 0.4076 - acc: 0.8254 - val_loss: 0.4184 - val_acc: 0.8159\n",
      "Epoch 7/20\n"
     ]
    },
    {
     "name": "stdout",
     "output_type": "stream",
     "text": [
      "30/30 [==============================] - ETA: 49s - loss: 0.4073 - acc: 0.81 - ETA: 26s - loss: 0.3933 - acc: 0.83 - ETA: 19s - loss: 0.3851 - acc: 0.83 - ETA: 15s - loss: 0.3885 - acc: 0.83 - ETA: 12s - loss: 0.3887 - acc: 0.83 - ETA: 11s - loss: 0.3899 - acc: 0.83 - ETA: 9s - loss: 0.3917 - acc: 0.8309 - ETA: 8s - loss: 0.3904 - acc: 0.833 - ETA: 7s - loss: 0.3922 - acc: 0.832 - ETA: 7s - loss: 0.3894 - acc: 0.835 - ETA: 6s - loss: 0.3880 - acc: 0.836 - ETA: 5s - loss: 0.3857 - acc: 0.838 - ETA: 5s - loss: 0.3849 - acc: 0.838 - ETA: 4s - loss: 0.3845 - acc: 0.840 - ETA: 4s - loss: 0.3846 - acc: 0.840 - ETA: 3s - loss: 0.3825 - acc: 0.841 - ETA: 3s - loss: 0.3818 - acc: 0.841 - ETA: 3s - loss: 0.3801 - acc: 0.842 - ETA: 2s - loss: 0.3797 - acc: 0.843 - ETA: 2s - loss: 0.3804 - acc: 0.842 - ETA: 2s - loss: 0.3806 - acc: 0.843 - ETA: 1s - loss: 0.3797 - acc: 0.843 - ETA: 1s - loss: 0.3804 - acc: 0.842 - ETA: 1s - loss: 0.3795 - acc: 0.842 - ETA: 1s - loss: 0.3801 - acc: 0.842 - ETA: 0s - loss: 0.3803 - acc: 0.841 - ETA: 0s - loss: 0.3803 - acc: 0.841 - ETA: 0s - loss: 0.3803 - acc: 0.841 - ETA: 0s - loss: 0.3795 - acc: 0.842 - 10s 331ms/step - loss: 0.3771 - acc: 0.8429 - val_loss: 0.3961 - val_acc: 0.8295\n",
      "Epoch 8/20\n",
      "30/30 [==============================] - ETA: 48s - loss: 0.3800 - acc: 0.82 - ETA: 26s - loss: 0.3650 - acc: 0.84 - ETA: 19s - loss: 0.3566 - acc: 0.85 - ETA: 15s - loss: 0.3596 - acc: 0.85 - ETA: 12s - loss: 0.3601 - acc: 0.84 - ETA: 11s - loss: 0.3616 - acc: 0.84 - ETA: 9s - loss: 0.3634 - acc: 0.8451 - ETA: 8s - loss: 0.3620 - acc: 0.847 - ETA: 7s - loss: 0.3636 - acc: 0.847 - ETA: 7s - loss: 0.3608 - acc: 0.849 - ETA: 6s - loss: 0.3592 - acc: 0.850 - ETA: 5s - loss: 0.3571 - acc: 0.852 - ETA: 5s - loss: 0.3564 - acc: 0.852 - ETA: 4s - loss: 0.3560 - acc: 0.854 - ETA: 4s - loss: 0.3561 - acc: 0.855 - ETA: 3s - loss: 0.3541 - acc: 0.856 - ETA: 3s - loss: 0.3534 - acc: 0.855 - ETA: 3s - loss: 0.3517 - acc: 0.856 - ETA: 2s - loss: 0.3516 - acc: 0.857 - ETA: 2s - loss: 0.3524 - acc: 0.856 - ETA: 2s - loss: 0.3526 - acc: 0.857 - ETA: 1s - loss: 0.3518 - acc: 0.857 - ETA: 1s - loss: 0.3525 - acc: 0.856 - ETA: 1s - loss: 0.3515 - acc: 0.857 - ETA: 1s - loss: 0.3522 - acc: 0.856 - ETA: 0s - loss: 0.3524 - acc: 0.855 - ETA: 0s - loss: 0.3524 - acc: 0.855 - ETA: 0s - loss: 0.3525 - acc: 0.855 - ETA: 0s - loss: 0.3516 - acc: 0.856 - 10s 335ms/step - loss: 0.3490 - acc: 0.8574 - val_loss: 0.3766 - val_acc: 0.8376\n",
      "Epoch 9/20\n",
      "30/30 [==============================] - ETA: 50s - loss: 0.3551 - acc: 0.85 - ETA: 27s - loss: 0.3392 - acc: 0.87 - ETA: 19s - loss: 0.3305 - acc: 0.87 - ETA: 15s - loss: 0.3328 - acc: 0.87 - ETA: 12s - loss: 0.3337 - acc: 0.86 - ETA: 11s - loss: 0.3354 - acc: 0.86 - ETA: 9s - loss: 0.3372 - acc: 0.8624 - ETA: 8s - loss: 0.3355 - acc: 0.865 - ETA: 7s - loss: 0.3369 - acc: 0.864 - ETA: 7s - loss: 0.3342 - acc: 0.865 - ETA: 6s - loss: 0.3324 - acc: 0.866 - ETA: 5s - loss: 0.3304 - acc: 0.868 - ETA: 5s - loss: 0.3299 - acc: 0.867 - ETA: 4s - loss: 0.3295 - acc: 0.868 - ETA: 4s - loss: 0.3296 - acc: 0.869 - ETA: 3s - loss: 0.3276 - acc: 0.870 - ETA: 3s - loss: 0.3270 - acc: 0.869 - ETA: 3s - loss: 0.3254 - acc: 0.870 - ETA: 2s - loss: 0.3255 - acc: 0.870 - ETA: 2s - loss: 0.3263 - acc: 0.869 - ETA: 2s - loss: 0.3267 - acc: 0.869 - ETA: 1s - loss: 0.3259 - acc: 0.870 - ETA: 1s - loss: 0.3267 - acc: 0.869 - ETA: 1s - loss: 0.3257 - acc: 0.870 - ETA: 1s - loss: 0.3263 - acc: 0.869 - ETA: 0s - loss: 0.3265 - acc: 0.869 - ETA: 0s - loss: 0.3266 - acc: 0.869 - ETA: 0s - loss: 0.3266 - acc: 0.869 - ETA: 0s - loss: 0.3259 - acc: 0.870 - 10s 332ms/step - loss: 0.3229 - acc: 0.8710 - val_loss: 0.3596 - val_acc: 0.8448\n",
      "Epoch 10/20\n",
      "30/30 [==============================] - ETA: 49s - loss: 0.3322 - acc: 0.86 - ETA: 26s - loss: 0.3156 - acc: 0.88 - ETA: 19s - loss: 0.3067 - acc: 0.88 - ETA: 15s - loss: 0.3082 - acc: 0.88 - ETA: 12s - loss: 0.3092 - acc: 0.88 - ETA: 11s - loss: 0.3111 - acc: 0.87 - ETA: 9s - loss: 0.3129 - acc: 0.8750 - ETA: 8s - loss: 0.3109 - acc: 0.876 - ETA: 7s - loss: 0.3120 - acc: 0.875 - ETA: 7s - loss: 0.3095 - acc: 0.876 - ETA: 6s - loss: 0.3075 - acc: 0.877 - ETA: 5s - loss: 0.3056 - acc: 0.879 - ETA: 5s - loss: 0.3053 - acc: 0.879 - ETA: 4s - loss: 0.3049 - acc: 0.879 - ETA: 4s - loss: 0.3050 - acc: 0.880 - ETA: 3s - loss: 0.3031 - acc: 0.881 - ETA: 3s - loss: 0.3025 - acc: 0.881 - ETA: 3s - loss: 0.3009 - acc: 0.881 - ETA: 2s - loss: 0.3014 - acc: 0.882 - ETA: 2s - loss: 0.3022 - acc: 0.881 - ETA: 2s - loss: 0.3026 - acc: 0.881 - ETA: 1s - loss: 0.3018 - acc: 0.882 - ETA: 1s - loss: 0.3027 - acc: 0.881 - ETA: 1s - loss: 0.3017 - acc: 0.882 - ETA: 1s - loss: 0.3022 - acc: 0.881 - ETA: 0s - loss: 0.3025 - acc: 0.881 - ETA: 0s - loss: 0.3027 - acc: 0.881 - ETA: 0s - loss: 0.3027 - acc: 0.881 - ETA: 0s - loss: 0.3020 - acc: 0.882 - 10s 331ms/step - loss: 0.2987 - acc: 0.8828 - val_loss: 0.3445 - val_acc: 0.8540\n",
      "Epoch 11/20\n",
      "30/30 [==============================] - ETA: 51s - loss: 0.3109 - acc: 0.87 - ETA: 27s - loss: 0.2935 - acc: 0.88 - ETA: 19s - loss: 0.2845 - acc: 0.89 - ETA: 15s - loss: 0.2853 - acc: 0.89 - ETA: 12s - loss: 0.2862 - acc: 0.88 - ETA: 10s - loss: 0.2882 - acc: 0.88 - ETA: 9s - loss: 0.2899 - acc: 0.8853 - ETA: 8s - loss: 0.2876 - acc: 0.887 - ETA: 7s - loss: 0.2885 - acc: 0.885 - ETA: 7s - loss: 0.2861 - acc: 0.887 - ETA: 6s - loss: 0.2841 - acc: 0.888 - ETA: 5s - loss: 0.2824 - acc: 0.890 - ETA: 5s - loss: 0.2821 - acc: 0.890 - ETA: 4s - loss: 0.2817 - acc: 0.890 - ETA: 4s - loss: 0.2819 - acc: 0.891 - ETA: 3s - loss: 0.2800 - acc: 0.892 - ETA: 3s - loss: 0.2793 - acc: 0.892 - ETA: 3s - loss: 0.2778 - acc: 0.893 - ETA: 2s - loss: 0.2785 - acc: 0.893 - ETA: 2s - loss: 0.2794 - acc: 0.892 - ETA: 2s - loss: 0.2798 - acc: 0.892 - ETA: 1s - loss: 0.2791 - acc: 0.892 - ETA: 1s - loss: 0.2800 - acc: 0.892 - ETA: 1s - loss: 0.2789 - acc: 0.892 - ETA: 1s - loss: 0.2795 - acc: 0.891 - ETA: 0s - loss: 0.2798 - acc: 0.891 - ETA: 0s - loss: 0.2799 - acc: 0.891 - ETA: 0s - loss: 0.2799 - acc: 0.891 - ETA: 0s - loss: 0.2793 - acc: 0.892 - 10s 331ms/step - loss: 0.2757 - acc: 0.8927 - val_loss: 0.3322 - val_acc: 0.8583\n",
      "Epoch 12/20\n",
      "30/30 [==============================] - ETA: 50s - loss: 0.2925 - acc: 0.88 - ETA: 27s - loss: 0.2741 - acc: 0.89 - ETA: 19s - loss: 0.2642 - acc: 0.90 - ETA: 15s - loss: 0.2645 - acc: 0.90 - ETA: 13s - loss: 0.2651 - acc: 0.89 - ETA: 11s - loss: 0.2671 - acc: 0.89 - ETA: 9s - loss: 0.2686 - acc: 0.8951 - ETA: 8s - loss: 0.2662 - acc: 0.897 - ETA: 7s - loss: 0.2669 - acc: 0.895 - ETA: 7s - loss: 0.2647 - acc: 0.896 - ETA: 6s - loss: 0.2626 - acc: 0.897 - ETA: 5s - loss: 0.2611 - acc: 0.899 - ETA: 5s - loss: 0.2608 - acc: 0.899 - ETA: 4s - loss: 0.2605 - acc: 0.899 - ETA: 4s - loss: 0.2606 - acc: 0.900 - ETA: 3s - loss: 0.2587 - acc: 0.901 - ETA: 3s - loss: 0.2581 - acc: 0.901 - ETA: 3s - loss: 0.2565 - acc: 0.902 - ETA: 2s - loss: 0.2575 - acc: 0.901 - ETA: 2s - loss: 0.2583 - acc: 0.901 - ETA: 2s - loss: 0.2587 - acc: 0.901 - ETA: 1s - loss: 0.2581 - acc: 0.901 - ETA: 1s - loss: 0.2591 - acc: 0.901 - ETA: 1s - loss: 0.2581 - acc: 0.901 - ETA: 1s - loss: 0.2586 - acc: 0.900 - ETA: 0s - loss: 0.2589 - acc: 0.900 - ETA: 0s - loss: 0.2591 - acc: 0.900 - ETA: 0s - loss: 0.2592 - acc: 0.900 - ETA: 0s - loss: 0.2586 - acc: 0.901 - 9s 307ms/step - loss: 0.2549 - acc: 0.9017 - val_loss: 0.3224 - val_acc: 0.8626\n",
      "Epoch 13/20\n"
     ]
    },
    {
     "name": "stdout",
     "output_type": "stream",
     "text": [
      "30/30 [==============================] - ETA: 43s - loss: 0.2729 - acc: 0.89 - ETA: 24s - loss: 0.2549 - acc: 0.90 - ETA: 17s - loss: 0.2453 - acc: 0.90 - ETA: 13s - loss: 0.2449 - acc: 0.90 - ETA: 11s - loss: 0.2455 - acc: 0.90 - ETA: 10s - loss: 0.2476 - acc: 0.90 - ETA: 9s - loss: 0.2492 - acc: 0.9054 - ETA: 8s - loss: 0.2467 - acc: 0.907 - ETA: 7s - loss: 0.2474 - acc: 0.905 - ETA: 6s - loss: 0.2454 - acc: 0.906 - ETA: 5s - loss: 0.2432 - acc: 0.907 - ETA: 5s - loss: 0.2418 - acc: 0.909 - ETA: 4s - loss: 0.2415 - acc: 0.909 - ETA: 4s - loss: 0.2413 - acc: 0.909 - ETA: 4s - loss: 0.2415 - acc: 0.910 - ETA: 3s - loss: 0.2398 - acc: 0.910 - ETA: 3s - loss: 0.2391 - acc: 0.910 - ETA: 2s - loss: 0.2375 - acc: 0.911 - ETA: 2s - loss: 0.2388 - acc: 0.910 - ETA: 2s - loss: 0.2395 - acc: 0.910 - ETA: 2s - loss: 0.2401 - acc: 0.910 - ETA: 1s - loss: 0.2396 - acc: 0.910 - ETA: 1s - loss: 0.2407 - acc: 0.910 - ETA: 1s - loss: 0.2396 - acc: 0.910 - ETA: 1s - loss: 0.2401 - acc: 0.910 - ETA: 0s - loss: 0.2405 - acc: 0.910 - ETA: 0s - loss: 0.2407 - acc: 0.910 - ETA: 0s - loss: 0.2407 - acc: 0.910 - ETA: 0s - loss: 0.2402 - acc: 0.910 - 9s 305ms/step - loss: 0.2364 - acc: 0.9114 - val_loss: 0.3145 - val_acc: 0.8666\n",
      "Epoch 14/20\n",
      "30/30 [==============================] - ETA: 45s - loss: 0.2541 - acc: 0.90 - ETA: 24s - loss: 0.2370 - acc: 0.91 - ETA: 16s - loss: 0.2279 - acc: 0.91 - ETA: 13s - loss: 0.2271 - acc: 0.91 - ETA: 10s - loss: 0.2278 - acc: 0.91 - ETA: 9s - loss: 0.2299 - acc: 0.9137 - ETA: 8s - loss: 0.2315 - acc: 0.910 - ETA: 7s - loss: 0.2292 - acc: 0.913 - ETA: 6s - loss: 0.2297 - acc: 0.911 - ETA: 5s - loss: 0.2279 - acc: 0.912 - ETA: 5s - loss: 0.2256 - acc: 0.913 - ETA: 4s - loss: 0.2243 - acc: 0.914 - ETA: 4s - loss: 0.2241 - acc: 0.915 - ETA: 3s - loss: 0.2240 - acc: 0.914 - ETA: 3s - loss: 0.2241 - acc: 0.915 - ETA: 3s - loss: 0.2226 - acc: 0.916 - ETA: 2s - loss: 0.2220 - acc: 0.916 - ETA: 2s - loss: 0.2204 - acc: 0.916 - ETA: 2s - loss: 0.2219 - acc: 0.916 - ETA: 2s - loss: 0.2226 - acc: 0.915 - ETA: 1s - loss: 0.2233 - acc: 0.915 - ETA: 1s - loss: 0.2229 - acc: 0.916 - ETA: 1s - loss: 0.2241 - acc: 0.915 - ETA: 1s - loss: 0.2230 - acc: 0.916 - ETA: 0s - loss: 0.2235 - acc: 0.916 - ETA: 0s - loss: 0.2238 - acc: 0.916 - ETA: 0s - loss: 0.2241 - acc: 0.916 - ETA: 0s - loss: 0.2241 - acc: 0.916 - ETA: 0s - loss: 0.2236 - acc: 0.916 - 9s 306ms/step - loss: 0.2198 - acc: 0.9175 - val_loss: 0.3083 - val_acc: 0.8688\n",
      "Epoch 15/20\n",
      "30/30 [==============================] - ETA: 51s - loss: 0.2363 - acc: 0.90 - ETA: 28s - loss: 0.2201 - acc: 0.91 - ETA: 20s - loss: 0.2116 - acc: 0.92 - ETA: 15s - loss: 0.2103 - acc: 0.92 - ETA: 13s - loss: 0.2110 - acc: 0.92 - ETA: 11s - loss: 0.2134 - acc: 0.92 - ETA: 9s - loss: 0.2152 - acc: 0.9171 - ETA: 8s - loss: 0.2128 - acc: 0.919 - ETA: 8s - loss: 0.2133 - acc: 0.918 - ETA: 7s - loss: 0.2116 - acc: 0.918 - ETA: 6s - loss: 0.2095 - acc: 0.919 - ETA: 5s - loss: 0.2083 - acc: 0.920 - ETA: 5s - loss: 0.2081 - acc: 0.920 - ETA: 4s - loss: 0.2082 - acc: 0.920 - ETA: 4s - loss: 0.2083 - acc: 0.921 - ETA: 3s - loss: 0.2069 - acc: 0.921 - ETA: 3s - loss: 0.2063 - acc: 0.922 - ETA: 3s - loss: 0.2047 - acc: 0.923 - ETA: 2s - loss: 0.2064 - acc: 0.922 - ETA: 2s - loss: 0.2071 - acc: 0.921 - ETA: 2s - loss: 0.2080 - acc: 0.921 - ETA: 1s - loss: 0.2077 - acc: 0.922 - ETA: 1s - loss: 0.2089 - acc: 0.922 - ETA: 1s - loss: 0.2078 - acc: 0.922 - ETA: 1s - loss: 0.2082 - acc: 0.922 - ETA: 0s - loss: 0.2086 - acc: 0.922 - ETA: 0s - loss: 0.2088 - acc: 0.923 - ETA: 0s - loss: 0.2088 - acc: 0.923 - ETA: 0s - loss: 0.2084 - acc: 0.923 - 10s 329ms/step - loss: 0.2045 - acc: 0.9238 - val_loss: 0.3041 - val_acc: 0.8704\n",
      "Epoch 16/20\n",
      "30/30 [==============================] - ETA: 39s - loss: 0.2196 - acc: 0.91 - ETA: 22s - loss: 0.2047 - acc: 0.92 - ETA: 16s - loss: 0.1966 - acc: 0.92 - ETA: 13s - loss: 0.1948 - acc: 0.93 - ETA: 10s - loss: 0.1955 - acc: 0.92 - ETA: 9s - loss: 0.1978 - acc: 0.9261 - ETA: 8s - loss: 0.1996 - acc: 0.924 - ETA: 7s - loss: 0.1974 - acc: 0.926 - ETA: 6s - loss: 0.1979 - acc: 0.925 - ETA: 6s - loss: 0.1964 - acc: 0.925 - ETA: 5s - loss: 0.1944 - acc: 0.927 - ETA: 5s - loss: 0.1932 - acc: 0.927 - ETA: 4s - loss: 0.1931 - acc: 0.928 - ETA: 4s - loss: 0.1932 - acc: 0.927 - ETA: 3s - loss: 0.1935 - acc: 0.928 - ETA: 3s - loss: 0.1921 - acc: 0.928 - ETA: 3s - loss: 0.1916 - acc: 0.928 - ETA: 2s - loss: 0.1901 - acc: 0.929 - ETA: 2s - loss: 0.1919 - acc: 0.928 - ETA: 2s - loss: 0.1926 - acc: 0.928 - ETA: 1s - loss: 0.1936 - acc: 0.928 - ETA: 1s - loss: 0.1933 - acc: 0.928 - ETA: 1s - loss: 0.1946 - acc: 0.928 - ETA: 1s - loss: 0.1935 - acc: 0.929 - ETA: 1s - loss: 0.1939 - acc: 0.929 - ETA: 0s - loss: 0.1942 - acc: 0.929 - ETA: 0s - loss: 0.1945 - acc: 0.929 - ETA: 0s - loss: 0.1945 - acc: 0.929 - ETA: 0s - loss: 0.1941 - acc: 0.929 - 9s 316ms/step - loss: 0.1903 - acc: 0.9301 - val_loss: 0.3011 - val_acc: 0.8733\n",
      "Epoch 17/20\n",
      "30/30 [==============================] - ETA: 46s - loss: 0.2042 - acc: 0.92 - ETA: 26s - loss: 0.1904 - acc: 0.93 - ETA: 18s - loss: 0.1828 - acc: 0.93 - ETA: 14s - loss: 0.1808 - acc: 0.93 - ETA: 12s - loss: 0.1814 - acc: 0.93 - ETA: 10s - loss: 0.1837 - acc: 0.93 - ETA: 9s - loss: 0.1856 - acc: 0.9289 - ETA: 8s - loss: 0.1834 - acc: 0.930 - ETA: 7s - loss: 0.1839 - acc: 0.930 - ETA: 6s - loss: 0.1824 - acc: 0.930 - ETA: 6s - loss: 0.1806 - acc: 0.932 - ETA: 5s - loss: 0.1795 - acc: 0.932 - ETA: 5s - loss: 0.1794 - acc: 0.933 - ETA: 4s - loss: 0.1795 - acc: 0.932 - ETA: 4s - loss: 0.1798 - acc: 0.933 - ETA: 3s - loss: 0.1786 - acc: 0.933 - ETA: 3s - loss: 0.1781 - acc: 0.934 - ETA: 3s - loss: 0.1766 - acc: 0.935 - ETA: 2s - loss: 0.1786 - acc: 0.934 - ETA: 2s - loss: 0.1793 - acc: 0.934 - ETA: 2s - loss: 0.1803 - acc: 0.933 - ETA: 1s - loss: 0.1802 - acc: 0.934 - ETA: 1s - loss: 0.1815 - acc: 0.934 - ETA: 1s - loss: 0.1804 - acc: 0.934 - ETA: 1s - loss: 0.1807 - acc: 0.935 - ETA: 0s - loss: 0.1811 - acc: 0.935 - ETA: 0s - loss: 0.1814 - acc: 0.935 - ETA: 0s - loss: 0.1814 - acc: 0.935 - ETA: 0s - loss: 0.1810 - acc: 0.935 - 10s 327ms/step - loss: 0.1773 - acc: 0.9363 - val_loss: 0.2991 - val_acc: 0.8745\n",
      "Epoch 18/20\n",
      "30/30 [==============================] - ETA: 52s - loss: 0.1899 - acc: 0.93 - ETA: 28s - loss: 0.1771 - acc: 0.94 - ETA: 20s - loss: 0.1702 - acc: 0.94 - ETA: 16s - loss: 0.1679 - acc: 0.94 - ETA: 13s - loss: 0.1685 - acc: 0.93 - ETA: 11s - loss: 0.1707 - acc: 0.93 - ETA: 10s - loss: 0.1725 - acc: 0.93 - ETA: 9s - loss: 0.1705 - acc: 0.9390 - ETA: 8s - loss: 0.1709 - acc: 0.937 - ETA: 7s - loss: 0.1695 - acc: 0.938 - ETA: 6s - loss: 0.1678 - acc: 0.939 - ETA: 5s - loss: 0.1668 - acc: 0.939 - ETA: 5s - loss: 0.1666 - acc: 0.939 - ETA: 4s - loss: 0.1668 - acc: 0.939 - ETA: 4s - loss: 0.1672 - acc: 0.940 - ETA: 3s - loss: 0.1660 - acc: 0.940 - ETA: 3s - loss: 0.1656 - acc: 0.941 - ETA: 3s - loss: 0.1642 - acc: 0.941 - ETA: 2s - loss: 0.1663 - acc: 0.941 - ETA: 2s - loss: 0.1669 - acc: 0.940 - ETA: 2s - loss: 0.1681 - acc: 0.940 - ETA: 1s - loss: 0.1679 - acc: 0.941 - ETA: 1s - loss: 0.1693 - acc: 0.940 - ETA: 1s - loss: 0.1682 - acc: 0.941 - ETA: 1s - loss: 0.1686 - acc: 0.941 - ETA: 0s - loss: 0.1689 - acc: 0.941 - ETA: 0s - loss: 0.1692 - acc: 0.941 - ETA: 0s - loss: 0.1693 - acc: 0.941 - ETA: 0s - loss: 0.1689 - acc: 0.942 - 10s 330ms/step - loss: 0.1653 - acc: 0.9425 - val_loss: 0.2981 - val_acc: 0.8745\n",
      "Epoch 19/20\n"
     ]
    },
    {
     "name": "stdout",
     "output_type": "stream",
     "text": [
      "30/30 [==============================] - ETA: 48s - loss: 0.1760 - acc: 0.95 - ETA: 26s - loss: 0.1645 - acc: 0.94 - ETA: 19s - loss: 0.1584 - acc: 0.94 - ETA: 15s - loss: 0.1559 - acc: 0.94 - ETA: 12s - loss: 0.1564 - acc: 0.94 - ETA: 10s - loss: 0.1585 - acc: 0.94 - ETA: 9s - loss: 0.1603 - acc: 0.9436 - ETA: 8s - loss: 0.1585 - acc: 0.945 - ETA: 7s - loss: 0.1590 - acc: 0.944 - ETA: 7s - loss: 0.1577 - acc: 0.944 - ETA: 6s - loss: 0.1561 - acc: 0.946 - ETA: 5s - loss: 0.1551 - acc: 0.946 - ETA: 5s - loss: 0.1549 - acc: 0.946 - ETA: 4s - loss: 0.1551 - acc: 0.946 - ETA: 4s - loss: 0.1555 - acc: 0.947 - ETA: 3s - loss: 0.1545 - acc: 0.946 - ETA: 3s - loss: 0.1540 - acc: 0.947 - ETA: 3s - loss: 0.1527 - acc: 0.947 - ETA: 2s - loss: 0.1549 - acc: 0.947 - ETA: 2s - loss: 0.1556 - acc: 0.947 - ETA: 2s - loss: 0.1568 - acc: 0.946 - ETA: 1s - loss: 0.1567 - acc: 0.947 - ETA: 1s - loss: 0.1581 - acc: 0.946 - ETA: 1s - loss: 0.1570 - acc: 0.947 - ETA: 1s - loss: 0.1574 - acc: 0.947 - ETA: 0s - loss: 0.1577 - acc: 0.947 - ETA: 0s - loss: 0.1580 - acc: 0.947 - ETA: 0s - loss: 0.1581 - acc: 0.947 - ETA: 0s - loss: 0.1577 - acc: 0.947 - 10s 327ms/step - loss: 0.1543 - acc: 0.9483 - val_loss: 0.2982 - val_acc: 0.8752\n",
      "Epoch 20/20\n",
      "30/30 [==============================] - ETA: 51s - loss: 0.1634 - acc: 0.95 - ETA: 28s - loss: 0.1530 - acc: 0.95 - ETA: 20s - loss: 0.1475 - acc: 0.95 - ETA: 15s - loss: 0.1448 - acc: 0.95 - ETA: 13s - loss: 0.1453 - acc: 0.95 - ETA: 11s - loss: 0.1473 - acc: 0.95 - ETA: 9s - loss: 0.1491 - acc: 0.9492 - ETA: 8s - loss: 0.1475 - acc: 0.950 - ETA: 8s - loss: 0.1479 - acc: 0.950 - ETA: 7s - loss: 0.1467 - acc: 0.950 - ETA: 6s - loss: 0.1454 - acc: 0.951 - ETA: 5s - loss: 0.1444 - acc: 0.951 - ETA: 5s - loss: 0.1441 - acc: 0.950 - ETA: 4s - loss: 0.1443 - acc: 0.950 - ETA: 4s - loss: 0.1448 - acc: 0.951 - ETA: 3s - loss: 0.1439 - acc: 0.951 - ETA: 3s - loss: 0.1435 - acc: 0.952 - ETA: 3s - loss: 0.1422 - acc: 0.952 - ETA: 2s - loss: 0.1445 - acc: 0.952 - ETA: 2s - loss: 0.1451 - acc: 0.952 - ETA: 2s - loss: 0.1464 - acc: 0.951 - ETA: 1s - loss: 0.1463 - acc: 0.952 - ETA: 1s - loss: 0.1477 - acc: 0.951 - ETA: 1s - loss: 0.1466 - acc: 0.952 - ETA: 1s - loss: 0.1470 - acc: 0.952 - ETA: 0s - loss: 0.1473 - acc: 0.952 - ETA: 0s - loss: 0.1477 - acc: 0.952 - ETA: 0s - loss: 0.1477 - acc: 0.952 - ETA: 0s - loss: 0.1474 - acc: 0.952 - 10s 334ms/step - loss: 0.1441 - acc: 0.9529 - val_loss: 0.2989 - val_acc: 0.8753\n"
     ]
    }
   ],
   "source": [
    "history = model.fit(train_data.shuffle(10000).batch(512),\n",
    "                    epochs=20,\n",
    "                    validation_data=validation_data.batch(512),\n",
    "                    verbose=1)"
   ]
  },
  {
   "cell_type": "markdown",
   "metadata": {},
   "source": [
    "Evaluate the model"
   ]
  },
  {
   "cell_type": "code",
   "execution_count": 11,
   "metadata": {},
   "outputs": [
    {
     "name": "stdout",
     "output_type": "stream",
     "text": [
      "loss: 0.323\n",
      "acc: 0.865\n"
     ]
    }
   ],
   "source": [
    "results = model.evaluate(test_data.batch(512), verbose=0)\n",
    "for name, value in zip(model.metrics_names, results):\n",
    "  print(\"%s: %.3f\" % (name, value))"
   ]
  },
  {
   "cell_type": "markdown",
   "metadata": {},
   "source": [
    "Let's calculate th output for a random example"
   ]
  },
  {
   "cell_type": "code",
   "execution_count": 56,
   "metadata": {},
   "outputs": [
    {
     "name": "stdout",
     "output_type": "stream",
     "text": [
      "b'I was really surprised to see that unlike most documentaries, this was written, directed and produced by a film critic-- Richard Schickel. Most of the times I know of where film critics had major involvement in films, the films turns out to be bombs (Rex Reed starring in \"Myra Breckenridge\" and Roger Ebert writing \"Beyond the Valley of the Dolls\" are prime examples). However, in this case, the critic\\'s powers are used for good and not evil--and the results are better (though this isn\\'t saying much, as the films I just mentioned are among the worst films ever made).<br /><br />As for the documentary, it\\'s narrated by Clint Eastwood (a pretty good choice) and manages to discuss his long career--from his silent days until his death in the early 1960s. The only negatives, and they are slight, are that the film is awfully short (as are most film documentaries) and there is very little about Gary Cooper as a human being--you really don\\'t learn all that much about his life. However, as a nice overview of his films, it works very well.'\n",
      "\n",
      "Actual: 1, Predicted: [[0.81951]]\n"
     ]
    }
   ],
   "source": [
    "example = next(iter(test_data.shuffle(10000).batch(1)))\n",
    "print(example[0][0].numpy())\n",
    "print('\\nActual: {}, Predicted: {}'.format(example[1][0].numpy(), model.predict(example)))"
   ]
  },
  {
   "cell_type": "code",
   "execution_count": null,
   "metadata": {},
   "outputs": [],
   "source": []
  }
 ],
 "metadata": {
  "kernelspec": {
   "display_name": "Python 3",
   "language": "python",
   "name": "python3"
  },
  "language_info": {
   "codemirror_mode": {
    "name": "ipython",
    "version": 3
   },
   "file_extension": ".py",
   "mimetype": "text/x-python",
   "name": "python",
   "nbconvert_exporter": "python",
   "pygments_lexer": "ipython3",
   "version": "3.6.5"
  }
 },
 "nbformat": 4,
 "nbformat_minor": 2
}
